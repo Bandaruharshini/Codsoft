{
  "nbformat": 4,
  "nbformat_minor": 0,
  "metadata": {
    "colab": {
      "provenance": [],
      "authorship_tag": "ABX9TyMBjJGsuCijl/c1WoHqp3li",
      "include_colab_link": true
    },
    "kernelspec": {
      "name": "python3",
      "display_name": "Python 3"
    },
    "language_info": {
      "name": "python"
    }
  },
  "cells": [
    {
      "cell_type": "markdown",
      "metadata": {
        "id": "view-in-github",
        "colab_type": "text"
      },
      "source": [
        "<a href=\"https://colab.research.google.com/github/Bandaruharshini/Codsoft/blob/main/recommendation.ipynb\" target=\"_parent\"><img src=\"https://colab.research.google.com/assets/colab-badge.svg\" alt=\"Open In Colab\"/></a>"
      ]
    },
    {
      "cell_type": "code",
      "execution_count": 1,
      "metadata": {
        "colab": {
          "base_uri": "https://localhost:8080/"
        },
        "id": "3RdhPxrXFSfP",
        "outputId": "ed07f25c-fc97-4665-bdc3-d04d30040aa2"
      },
      "outputs": [
        {
          "output_type": "stream",
          "name": "stdout",
          "text": [
            "User Similarity Matrix:\n",
            "User      User1     User2     User3     User4     User5\n",
            "User                                                   \n",
            "User1  1.000000  0.763763  0.771517  0.272974  0.096393\n",
            "User2  0.763763  1.000000  0.942809  0.288675  0.147242\n",
            "User3  0.771517  0.942809  1.000000  0.000000  0.000000\n",
            "User4  0.272974  0.288675  0.000000  1.000000  0.743839\n",
            "User5  0.096393  0.147242  0.000000  0.743839  1.000000\n",
            "\n",
            "Recommended items for User1: ['Item5', 'Item4']\n"
          ]
        }
      ],
      "source": [
        "import numpy as np\n",
        "import pandas as pd\n",
        "from sklearn.metrics.pairwise import cosine_similarity\n",
        "\n",
        "# Example user-item rating matrix\n",
        "data = {\n",
        "    'User': ['User1', 'User2', 'User3', 'User4', 'User5'],\n",
        "    'Item1': [5, 4, 1, 0, 0],\n",
        "    'Item2': [4, 0, 0, 2, 0],\n",
        "    'Item3': [1, 1, 0, 5, 4],\n",
        "    'Item4': [0, 1, 0, 4, 0],\n",
        "    'Item5': [0, 0, 0, 3, 5]\n",
        "}\n",
        "\n",
        "# Create a DataFrame\n",
        "df = pd.DataFrame(data)\n",
        "df.set_index('User', inplace=True)\n",
        "\n",
        "# Fill missing ratings (0 means not rated)\n",
        "user_item_matrix = df.fillna(0)\n",
        "\n",
        "# Calculate the cosine similarity between users\n",
        "user_similarity = cosine_similarity(user_item_matrix)\n",
        "\n",
        "# Convert the similarity matrix into a DataFrame for better visualization\n",
        "user_similarity_df = pd.DataFrame(user_similarity, index=user_item_matrix.index, columns=user_item_matrix.index)\n",
        "\n",
        "print(\"User Similarity Matrix:\")\n",
        "print(user_similarity_df)\n",
        "\n",
        "# Function to recommend items to a given user based on similar users\n",
        "def recommend_items(user, user_item_matrix, user_similarity_df, num_recommendations=2):\n",
        "    if user not in user_item_matrix.index:\n",
        "        print(\"User not found!\")\n",
        "        return []\n",
        "\n",
        "    # Find similar users\n",
        "    similar_users = user_similarity_df[user].sort_values(ascending=False)\n",
        "\n",
        "    # Get items rated by similar users\n",
        "    weighted_sum = np.zeros(user_item_matrix.shape[1])\n",
        "    similarity_sum = np.zeros(user_item_matrix.shape[1])\n",
        "\n",
        "    for sim_user in similar_users.index:\n",
        "        if sim_user != user:\n",
        "            similarity_score = similar_users[sim_user]\n",
        "            rated_items = user_item_matrix.loc[sim_user] > 0\n",
        "\n",
        "            weighted_sum += similarity_score * user_item_matrix.loc[sim_user].values\n",
        "            similarity_sum += similarity_score * rated_items\n",
        "\n",
        "    # Avoid division by zero\n",
        "    similarity_sum[similarity_sum == 0] = 1\n",
        "\n",
        "    # Predicted ratings\n",
        "    predicted_ratings = weighted_sum / similarity_sum\n",
        "\n",
        "    # Get the items the user hasn't rated yet\n",
        "    unrated_items = user_item_matrix.loc[user] == 0\n",
        "\n",
        "    # Recommend items with the highest predicted ratings\n",
        "    recommendations = np.argsort(predicted_ratings * unrated_items.values)[::-1]\n",
        "    recommended_items = [user_item_matrix.columns[i] for i in recommendations[:num_recommendations]]\n",
        "\n",
        "    return recommended_items\n",
        "\n",
        "# Recommend items for User1\n",
        "user_to_recommend = 'User1'\n",
        "recommended_items = recommend_items(user_to_recommend, user_item_matrix, user_similarity_df)\n",
        "print(f\"\\nRecommended items for {user_to_recommend}: {recommended_items}\")\n"
      ]
    }
  ]
}